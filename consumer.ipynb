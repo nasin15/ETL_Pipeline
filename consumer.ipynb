{
 "cells": [
  {
   "cell_type": "code",
   "execution_count": 1,
   "id": "3b3e5bc4",
   "metadata": {},
   "outputs": [],
   "source": [
    "from confluent_kafka import Consumer"
   ]
  },
  {
   "cell_type": "code",
   "execution_count": 2,
   "id": "18e05dd2",
   "metadata": {},
   "outputs": [],
   "source": [
    "consumer=Consumer({\n",
    "    'bootstrap.servers':'localhost',\n",
    "    'group.id':'G1',\n",
    "    'auto.offset.reset':'latest'\n",
    "})\n"
   ]
  },
  {
   "cell_type": "code",
   "execution_count": 3,
   "id": "e72c11f5",
   "metadata": {},
   "outputs": [],
   "source": [
    "consumer.subscribe(['mytopic'])\n"
   ]
  },
  {
   "cell_type": "code",
   "execution_count": null,
   "id": "7e0c3a67",
   "metadata": {},
   "outputs": [
    {
     "name": "stdout",
     "output_type": "stream",
     "text": [
      "recieved messages:{\"name\": \"Melissa Sedlmeier\", \"id\": \"77 030552 S 518\", \"age\": 72, \"gender\": \"female\", \"place\": \"Riesa-Gro\\u00dfenhain, Mecklenburg-Vorpommern\", \"country\": \"Germany\", \"email\": \"melissa.sedlmeier@example.com\", \"phone number\": \"0257-9598112\"}\n",
      "recieved messages:{\"name\": \"Emilie Kowalski\", \"id\": \"526082292\", \"age\": 52, \"gender\": \"female\", \"place\": \"Chipman, New Brunswick\", \"country\": \"Canada\", \"email\": \"emilie.kowalski@example.com\", \"phone number\": \"Z54 D57-3387\"}\n",
      "recieved messages:{\"name\": \"Zvenigora Baley\", \"id\": null, \"age\": 64, \"gender\": \"female\", \"place\": \"Stebnik, Hmelnicka\", \"country\": \"Ukraine\", \"email\": \"zvenigora.baley@example.com\", \"phone number\": \"(067) Z81-7674\"}\n",
      "recieved messages:{\"name\": \"F\\u00e9lix Aguilar\", \"id\": \"37128527-F\", \"age\": 28, \"gender\": \"male\", \"place\": \"M\\u00f3stoles, Islas Baleares\", \"country\": \"Spain\", \"email\": \"felix.aguilar@example.com\", \"phone number\": \"992-561-848\"}\n",
      "recieved messages:{\"name\": \"\\u06cc\\u0627\\u0633\\u0645\\u06cc\\u0646 \\u0631\\u0636\\u0627\\u06cc\\u06cc\", \"id\": null, \"age\": 52, \"gender\": \"female\", \"place\": \"\\u0627\\u0647\\u0648\\u0627\\u0632, \\u06cc\\u0632\\u062f\", \"country\": \"Iran\", \"email\": \"ysmyn.rdyy@example.com\", \"phone number\": \"003-44572052\"}\n"
     ]
    }
   ],
   "source": [
    "while True:\n",
    "    msg=consumer.poll()\n",
    "    \n",
    "    if msg is None:\n",
    "        print(\"No message...cont...!!!\")\n",
    "        continue\n",
    "    if msg.error():\n",
    "        print(\"Consumer error: {}\".format(msg.error()))\n",
    "        continue\n",
    "    print('recieved messages:{}'.format(msg.value().decode('utf-8')))"
   ]
  },
  {
   "cell_type": "code",
   "execution_count": null,
   "id": "cc8672ec",
   "metadata": {},
   "outputs": [],
   "source": []
  },
  {
   "cell_type": "code",
   "execution_count": null,
   "id": "c6587975",
   "metadata": {},
   "outputs": [],
   "source": []
  },
  {
   "cell_type": "code",
   "execution_count": null,
   "id": "7257a3c7",
   "metadata": {},
   "outputs": [],
   "source": []
  },
  {
   "cell_type": "code",
   "execution_count": null,
   "id": "7b15be39",
   "metadata": {},
   "outputs": [],
   "source": [
    "\n"
   ]
  }
 ],
 "metadata": {
  "kernelspec": {
   "display_name": "Python 3 (ipykernel)",
   "language": "python",
   "name": "python3"
  },
  "language_info": {
   "codemirror_mode": {
    "name": "ipython",
    "version": 3
   },
   "file_extension": ".py",
   "mimetype": "text/x-python",
   "name": "python",
   "nbconvert_exporter": "python",
   "pygments_lexer": "ipython3",
   "version": "3.11.5"
  }
 },
 "nbformat": 4,
 "nbformat_minor": 5
}
