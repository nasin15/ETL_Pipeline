{
 "cells": [
  {
   "cell_type": "code",
   "execution_count": 1,
   "id": "40543785",
   "metadata": {},
   "outputs": [],
   "source": [
    "from confluent_kafka.admin import AdminClient,NewTopic"
   ]
  },
  {
   "cell_type": "code",
   "execution_count": 2,
   "id": "b3761fc4",
   "metadata": {},
   "outputs": [
    {
     "data": {
      "text/plain": [
       "dict_values([<Future at 0x7ad41884d610 state=running>])"
      ]
     },
     "execution_count": 2,
     "metadata": {},
     "output_type": "execute_result"
    }
   ],
   "source": [
    "ac = AdminClient({'bootstrap.servers': 'localhost'})\n",
    "topic=NewTopic('mytopic',num_partitions=3,replication_factor=1)\n",
    "topic\n",
    "fs=ac.create_topics([topic])\n",
    "fs.values()\n"
   ]
  },
  {
   "cell_type": "code",
   "execution_count": 3,
   "id": "49a32eb3",
   "metadata": {},
   "outputs": [],
   "source": [
    "from confluent_kafka import Producer\n",
    "import requests\n",
    "import json\n"
   ]
  },
  {
   "cell_type": "code",
   "execution_count": 4,
   "id": "1c4eb863",
   "metadata": {},
   "outputs": [],
   "source": [
    "conf={'bootstrap.servers':\"localhost:9092\"}\n",
    "producer=Producer(conf)"
   ]
  },
  {
   "cell_type": "code",
   "execution_count": 5,
   "id": "783b9980",
   "metadata": {},
   "outputs": [],
   "source": [
    "api_url=\"https://randomuser.me/api/\""
   ]
  },
  {
   "cell_type": "code",
   "execution_count": 6,
   "id": "b0d216bb",
   "metadata": {},
   "outputs": [],
   "source": [
    "\n",
    "response = requests.get(api_url)\n",
    "data_json = response.json()\n"
   ]
  },
  {
   "cell_type": "code",
   "execution_count": 7,
   "id": "6a0eb527",
   "metadata": {},
   "outputs": [],
   "source": [
    "\n",
    "users_data = data_json['results']\n"
   ]
  },
  {
   "cell_type": "code",
   "execution_count": 8,
   "id": "8a1031a9",
   "metadata": {},
   "outputs": [],
   "source": [
    "output_data = {\"results\": []}"
   ]
  },
  {
   "cell_type": "code",
   "execution_count": 9,
   "id": "a89ddc43",
   "metadata": {},
   "outputs": [],
   "source": [
    "for user_data in users_data:\n",
    "    user_dict = {\n",
    "        \"name\": f\"{user_data['name']['first']} {user_data['name']['last']}\",\n",
    "        \"id\": user_data[\"id\"][\"value\"],\n",
    "        \"age\": user_data[\"dob\"][\"age\"],\n",
    "        \"gender\": user_data[\"gender\"],\n",
    "        \"place\": f\"{user_data['location']['city']}, {user_data['location']['state']}\",\n",
    "        \"country\": user_data['location']['country'],\n",
    "        \"email\": user_data[\"email\"],\n",
    "        \"phone number\": user_data[\"phone\"]\n",
    "    }\n",
    "\n",
    "    output_data[\"results\"].append(user_dict)"
   ]
  },
  {
   "cell_type": "code",
   "execution_count": 10,
   "id": "c33ea334",
   "metadata": {},
   "outputs": [],
   "source": [
    " user_json = json.dumps(user_dict)"
   ]
  },
  {
   "cell_type": "code",
   "execution_count": 11,
   "id": "ae6d30be",
   "metadata": {},
   "outputs": [],
   "source": [
    " producer.produce('mytopic', value=user_json.encode('utf-8'))"
   ]
  },
  {
   "cell_type": "code",
   "execution_count": 12,
   "id": "e9e788bc",
   "metadata": {},
   "outputs": [
    {
     "data": {
      "text/plain": [
       "0"
      ]
     },
     "execution_count": 12,
     "metadata": {},
     "output_type": "execute_result"
    }
   ],
   "source": [
    "producer.flush()"
   ]
  },
  {
   "cell_type": "code",
   "execution_count": 13,
   "id": "371d5d6a",
   "metadata": {},
   "outputs": [],
   "source": [
    "json_output = json.dumps(output_data, indent=4)\n"
   ]
  },
  {
   "cell_type": "code",
   "execution_count": 14,
   "id": "6006be31",
   "metadata": {
    "scrolled": true
   },
   "outputs": [
    {
     "name": "stdout",
     "output_type": "stream",
     "text": [
      "{\n",
      "    \"results\": [\n",
      "        {\n",
      "            \"name\": \"\\u06cc\\u0627\\u0633\\u0645\\u06cc\\u0646 \\u0631\\u0636\\u0627\\u06cc\\u06cc\",\n",
      "            \"id\": null,\n",
      "            \"age\": 52,\n",
      "            \"gender\": \"female\",\n",
      "            \"place\": \"\\u0627\\u0647\\u0648\\u0627\\u0632, \\u06cc\\u0632\\u062f\",\n",
      "            \"country\": \"Iran\",\n",
      "            \"email\": \"ysmyn.rdyy@example.com\",\n",
      "            \"phone number\": \"003-44572052\"\n",
      "        }\n",
      "    ]\n",
      "}\n"
     ]
    }
   ],
   "source": [
    "print(json_output)"
   ]
  },
  {
   "cell_type": "code",
   "execution_count": null,
   "id": "0737a064",
   "metadata": {},
   "outputs": [],
   "source": []
  }
 ],
 "metadata": {
  "kernelspec": {
   "display_name": "Python 3 (ipykernel)",
   "language": "python",
   "name": "python3"
  },
  "language_info": {
   "codemirror_mode": {
    "name": "ipython",
    "version": 3
   },
   "file_extension": ".py",
   "mimetype": "text/x-python",
   "name": "python",
   "nbconvert_exporter": "python",
   "pygments_lexer": "ipython3",
   "version": "3.11.5"
  }
 },
 "nbformat": 4,
 "nbformat_minor": 5
}
